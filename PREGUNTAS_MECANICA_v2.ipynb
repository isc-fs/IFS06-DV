{
 "cells": [
  {
   "cell_type": "code",
   "execution_count": 33,
   "id": "d9fbd5bd-760e-4815-ae6d-21f1aa59177f",
   "metadata": {},
   "outputs": [
    {
     "data": {
      "text/plain": [
       "30.0"
      ]
     },
     "execution_count": 33,
     "metadata": {},
     "output_type": "execute_result"
    }
   ],
   "source": [
    "##ID 612 y 664\n",
    "def calcular_velocidad_final(velocidad_inicial, engranajes):\n",
    "    \"\"\"\n",
    "    Calcula la velocidad rotacional final de un tren de engranajes.\n",
    "\n",
    "    Parámetros:\n",
    "    velocidad_inicial: La velocidad rotacional inicial del primer engranaje.\n",
    "    engranajes: Una lista de tuplas donde cada tupla contiene el número de dientes de dos engranajes consecutivos en el tren.\n",
    "    \n",
    "    Retorna:\n",
    "    La velocidad rotacional final del último engranaje.\n",
    "    \"\"\"\n",
    "    velocidad_actual = velocidad_inicial\n",
    "    for z_in, z_out in engranajes:\n",
    "        velocidad_actual *= (z_in / z_out)\n",
    "    \n",
    "    return round(velocidad_actual, 1)\n",
    "\n",
    "# Ejemplo de uso:\n",
    "# velocidad_inicial = 3600 min^-1\n",
    "# engranajes = [(z1, z2), (z3, z4), (z5, z6), (z7, z8)]\n",
    "velocidad_final = calcular_velocidad_final(3600, [(20, 45), (24, 55), (30, 26), (15, 53)])\n",
    "velocidad_final\n"
   ]
  },
  {
   "cell_type": "code",
   "execution_count": 2,
   "id": "1f22ad62-5d30-4045-b18f-cb3b164187d8",
   "metadata": {},
   "outputs": [
    {
     "data": {
      "text/plain": [
       "0.11"
      ]
     },
     "execution_count": 2,
     "metadata": {},
     "output_type": "execute_result"
    }
   ],
   "source": [
    "#ID 613\n",
    "def calcular_presion_seccion(p1, v1, A1, A2, rho):\n",
    "    \"\"\"\n",
    "    Calcula la presión en la sección 2 de un conducto de fluido.\n",
    "\n",
    "    Parámetros:\n",
    "    p1: Presión en la sección 1 (en las mismas unidades que p2 será calculado).\n",
    "    v1: Velocidad del fluido en la sección 1 (en m/s).\n",
    "    A1: Área de la sección transversal 1 (en m^2).\n",
    "    A2: Área de la sección transversal 2 (en m^2).\n",
    "    rho: Densidad del fluido (en kg/m^3).\n",
    "    \n",
    "    Retorna:\n",
    "    La presión en la sección 2 (en las mismas unidades que p1).\n",
    "    \"\"\"\n",
    "    # Convertir áreas a metros cuadrados si es necesario (por ejemplo, si están en cm^2)\n",
    "    A1_m2 = A1 / 10000 if A1 > 1 else A1\n",
    "    A2_m2 = A2 / 10000 if A2 > 1 else A2\n",
    "\n",
    "    # Calcular la velocidad en la sección 2 usando la continuidad del flujo\n",
    "    v2 = v1 * (A1_m2 / A2_m2)\n",
    "\n",
    "    # Aplicar la ecuación de Bernoulli para calcular la presión en la sección 2\n",
    "    p2 = p1 + 0.5 * rho * (v1**2 - v2**2)\n",
    "    \n",
    "    # Convertir la presión a bar si es necesario (por ejemplo, si está en Pascales)\n",
    "    p2_bar = p2 / 100000 if p2 > 1 else p2\n",
    "\n",
    "    return round(p2_bar, 2)\n",
    "\n",
    "# Ejemplo de uso:\n",
    "# p1 = 1.2 bar, v1 = 5 m/s, A1 = 2.55 cm^2, A2 = 7.1 cm^2, rho = 997 kg/m^3\n",
    "presion_final = calcular_presion_seccion(1.2, 5, 2.55, 7.1, 997)\n",
    "presion_final"
   ]
  },
  {
   "cell_type": "code",
   "execution_count": 3,
   "id": "81415124-f8da-4594-bd72-7b85034b8cb1",
   "metadata": {},
   "outputs": [
    {
     "data": {
      "text/plain": [
       "-0.032857142857142856"
      ]
     },
     "execution_count": 3,
     "metadata": {},
     "output_type": "execute_result"
    }
   ],
   "source": [
    "#ID 615 \n",
    "def calcular_velocidad_resultante(masa_A, masa_B, velocidad_B):\n",
    "    \"\"\"\n",
    "    Calcula la velocidad resultante del objeto A después de ejercer una fuerza sobre el objeto B.\n",
    "    \n",
    "    Parámetros:\n",
    "    masa_A: La masa del objeto A (en kg).\n",
    "    masa_B: La masa del objeto B (en kg).\n",
    "    velocidad_B: La velocidad del objeto B después de la fuerza (en m/s).\n",
    "    \n",
    "    Retorna:\n",
    "    La velocidad resultante del objeto A (en m/s).\n",
    "    \"\"\"\n",
    "    # La velocidad resultante del objeto A es en la dirección opuesta a la de B\n",
    "    velocidad_A = -(masa_B / masa_A) * velocidad_B\n",
    "    return velocidad_A\n",
    "\n",
    "# Ejemplo de uso:\n",
    "masa_coco = 3.5  # masa de Coco en kg\n",
    "masa_yarn = 0.05  # masa del ovillo de lana en kg\n",
    "velocidad_yarn = 2.3  # velocidad del ovillo después de ser pateado en m/s\n",
    "\n",
    "velocidad_coco = calcular_velocidad_resultante(masa_coco, masa_yarn, velocidad_yarn)\n",
    "velocidad_coco"
   ]
  },
  {
   "cell_type": "code",
   "execution_count": 4,
   "id": "5954fe58-ada1-4967-bca5-d4987fce6ef2",
   "metadata": {},
   "outputs": [
    {
     "data": {
      "text/plain": [
       "12"
      ]
     },
     "execution_count": 4,
     "metadata": {},
     "output_type": "execute_result"
    }
   ],
   "source": [
    "#ID 620 revisar, no mismo procedimiento que en word\n",
    "def calcular_perdida_peso_para_aceleracion(mejora_aceleracion_porcentaje):\n",
    "    \"\"\"\n",
    "    Calcula el porcentaje de peso que debe perder un objeto para lograr una mejora deseada en la aceleración.\n",
    "\n",
    "    Parámetros:\n",
    "    mejora_aceleracion_porcentaje: El porcentaje de mejora deseada en la aceleración.\n",
    "\n",
    "    Retorna:\n",
    "    El porcentaje de peso que debe perderse.\n",
    "    \"\"\"\n",
    "    # Convertir la mejora deseada de porcentaje a decimal\n",
    "    mejora_aceleracion_decimal = mejora_aceleracion_porcentaje / 100\n",
    "\n",
    "    # Calcular la nueva masa en relación con la masa original\n",
    "    nueva_masa = 1 / (1 + mejora_aceleracion_decimal)\n",
    "\n",
    "    # Calcular la fracción de la masa que debe perderse\n",
    "    fraccion_masa_perdida = 1 - nueva_masa\n",
    "\n",
    "    # Convertir la fracción a porcentaje\n",
    "    porcentaje_masa_perdida = fraccion_masa_perdida * 100\n",
    "\n",
    "    # Redondear al porcentaje más cercano\n",
    "    return round(porcentaje_masa_perdida)\n",
    "\n",
    "# Ejemplo de uso de la función:\n",
    "# Calcular el porcentaje de peso que debe perderse para mejorar la aceleración en un 13%\n",
    "porcentaje_masa_perdida = calcular_perdida_peso_para_aceleracion(13)\n",
    "porcentaje_masa_perdida"
   ]
  },
  {
   "cell_type": "code",
   "execution_count": 6,
   "id": "627b3ee5-78ad-4f0a-813f-822058f95f5e",
   "metadata": {},
   "outputs": [
    {
     "data": {
      "text/plain": [
       "7.1"
      ]
     },
     "execution_count": 6,
     "metadata": {},
     "output_type": "execute_result"
    }
   ],
   "source": [
    "#ID 447 \n",
    "import math\n",
    "def calcular_diferencia_vueltas(diametro_rueda, anchura_pista, numero_vueltas):\n",
    "    \"\"\"\n",
    "    Calcula la diferencia en el número de vueltas entre la rueda derecha e izquierda de un vehículo en un circuito circular.\n",
    "\n",
    "    Parámetros:\n",
    "    diametro_rueda: El diámetro de la rueda en centímetros.\n",
    "    anchura_pista: La anchura de la pista del vehículo en metros.\n",
    "    numero_vueltas: El número de vueltas que el vehículo da en el circuito.\n",
    "\n",
    "    Retorna:\n",
    "    La diferencia en el número de vueltas como un número flotante redondeado a un decimal.\n",
    "    \"\"\"\n",
    "    # Convertir el diámetro de la rueda a metros para los cálculos\n",
    "    diametro_rueda_m = diametro_rueda / 100\n",
    "\n",
    "    # Calcular la circunferencia de la rueda en metros\n",
    "    circunferencia_rueda_m = math.pi * diametro_rueda_m\n",
    "\n",
    "    # Calcular la longitud de la trayectoria para cada rueda\n",
    "    # La rueda interna (izquierda) tiene un radio de trayectoria de R\n",
    "    # La rueda externa (derecha) tiene un radio de trayectoria de R + anchura de la pista\n",
    "    longitud_trayectoria_izq = 2 * math.pi * (anchura_pista / 2) * numero_vueltas\n",
    "    longitud_trayectoria_der = 2 * math.pi * (anchura_pista / 2 + anchura_pista) * numero_vueltas\n",
    "\n",
    "    # Calcular el número de vueltas para cada rueda\n",
    "    vueltas_izq = longitud_trayectoria_izq / circunferencia_rueda_m\n",
    "    vueltas_der = longitud_trayectoria_der / circunferencia_rueda_m\n",
    "\n",
    "    # Calcular la diferencia en el número de vueltas\n",
    "    diferencia_vueltas = vueltas_der - vueltas_izq\n",
    "\n",
    "    # Redondear la solución a un decimal\n",
    "    return round(diferencia_vueltas, 1)\n",
    "\n",
    "# Ejemplo de uso\n",
    "# Calcular la diferencia en el número de vueltas para un diámetro de rueda de 42 cm,\n",
    "# una anchura de pista de 1.5 m, después de completar 1 vuelta en el circuito\n",
    "diametro_rueda = 42  # cm\n",
    "anchura_pista = 1.5  # m\n",
    "numero_vueltas = 1  # asumiendo 1 vuelta completa en el skidpad\n",
    "\n",
    "diferencia = calcular_diferencia_vueltas(diametro_rueda, anchura_pista, numero_vueltas)\n",
    "diferencia\n"
   ]
  },
  {
   "cell_type": "code",
   "execution_count": 7,
   "id": "7b7f4c5d-fbcf-4b54-8285-2e585c966e91",
   "metadata": {},
   "outputs": [
    {
     "data": {
      "text/plain": [
       "28.21"
      ]
     },
     "execution_count": 7,
     "metadata": {},
     "output_type": "execute_result"
    }
   ],
   "source": [
    "#ID 158\n",
    "import math\n",
    "\n",
    "def calcular_diametro_nucleo_tornillo(fuerza_total, tension_permisible, numero_tornillos):\n",
    "    \"\"\"\n",
    "    Calcula el diámetro del núcleo de un tornillo basado en una carga de tensión máxima y la tensión permisible.\n",
    "\n",
    "    Parámetros:\n",
    "    fuerza_total: La fuerza total que deben soportar todos los tornillos en Newtons (N).\n",
    "    tension_permisible: La tensión permisible en N/mm².\n",
    "    numero_tornillos: El número de tornillos que soportan la carga.\n",
    "\n",
    "    Retorna:\n",
    "    El diámetro del núcleo del tornillo en milímetros, redondeado a dos decimales.\n",
    "    \"\"\"\n",
    "    # Convertir la fuerza total en kN a N\n",
    "    fuerza_total_n = fuerza_total * 1e3\n",
    "\n",
    "    # Calcular la fuerza por tornillo\n",
    "    fuerza_por_tornillo = fuerza_total_n / numero_tornillos\n",
    "\n",
    "    # Calcular el área requerida del núcleo del tornillo\n",
    "    area_requerida = fuerza_por_tornillo / tension_permisible\n",
    "\n",
    "    # Calcular el diámetro a partir del área\n",
    "    diametro_nucleo = math.sqrt((4 * area_requerida) / math.pi)\n",
    "\n",
    "    return round(diametro_nucleo, 2)\n",
    "\n",
    "# Datos del problema\n",
    "fuerza_total_kn = 80  # en kN\n",
    "tension_permisible_n_mm2 = 32  # en N/mm²\n",
    "numero_tornillos = 4  # cantidad de tornillos\n",
    "\n",
    "# Calcular el diámetro del núcleo del tornillo\n",
    "diametro_nucleo = calcular_diametro_nucleo_tornillo(fuerza_total_kn, tension_permisible_n_mm2, numero_tornillos)\n",
    "diametro_nucleo\n"
   ]
  },
  {
   "cell_type": "code",
   "execution_count": 8,
   "id": "0517d9e0-da10-4a60-a56e-534c8296ec59",
   "metadata": {},
   "outputs": [
    {
     "data": {
      "text/plain": [
       "90"
      ]
     },
     "execution_count": 8,
     "metadata": {},
     "output_type": "execute_result"
    }
   ],
   "source": [
    "#ID 160\n",
    "def calcular_radio_minimo_doblado(diametro_externo):\n",
    "    \"\"\"\n",
    "    Calcula el radio mínimo de doblado para un tubo según el diámetro externo.\n",
    "\n",
    "    Parámetros:\n",
    "    diametro_externo: El diámetro externo del tubo en milímetros.\n",
    "\n",
    "    Retorna:\n",
    "    El radio mínimo de doblado en milímetros.\n",
    "    \"\"\"\n",
    "    # De acuerdo con la regla, el radio mínimo de doblado es tres veces el diámetro externo\n",
    "    radio_minimo = 3 * diametro_externo\n",
    "    return radio_minimo\n",
    "\n",
    "# Ejemplo de uso:\n",
    "# Calcular el radio mínimo de doblado para un tubo con diámetro externo de 30 mm\n",
    "diametro_externo_tubo = 30  # en mm\n",
    "radio_minimo_doblado = calcular_radio_minimo_doblado(diametro_externo_tubo)\n",
    "radio_minimo_doblado"
   ]
  },
  {
   "cell_type": "code",
   "execution_count": 9,
   "id": "12896547-0b67-4497-a39d-7d3120774e6d",
   "metadata": {},
   "outputs": [
    {
     "data": {
      "text/plain": [
       "19.1"
      ]
     },
     "execution_count": 9,
     "metadata": {},
     "output_type": "execute_result"
    }
   ],
   "source": [
    "#ID 162\n",
    "def calcular_nuevo_diametro(diametro_inicial):\n",
    "    \"\"\"\n",
    "    Calcula el diámetro necesario de un tubo para que la velocidad del flujo se duplique.\n",
    "\n",
    "    Parámetros:\n",
    "    diametro_inicial: El diámetro inicial del tubo en milímetros.\n",
    "\n",
    "    Retorna:\n",
    "    El nuevo diámetro en milímetros, redondeado a un decimal.\n",
    "    \"\"\"\n",
    "    # Convertir diámetro inicial a metros para calcular el área\n",
    "    diametro_inicial_m = diametro_inicial / 1000\n",
    "\n",
    "    # Calcular el área inicial\n",
    "    area_inicial = math.pi * (diametro_inicial_m / 2)**2\n",
    "\n",
    "    # Calcular la nueva área para duplicar la velocidad del flujo\n",
    "    nueva_area = area_inicial / 2\n",
    "\n",
    "    # Calcular el nuevo diámetro a partir de la nueva área\n",
    "    nuevo_diametro_m = 2 * math.sqrt(nueva_area / math.pi)\n",
    "\n",
    "    # Convertir el nuevo diámetro de vuelta a milímetros y redondear a un decimal\n",
    "    nuevo_diametro_mm = round(nuevo_diametro_m * 1000, 1)\n",
    "\n",
    "    return nuevo_diametro_mm\n",
    "\n",
    "# Ejemplo de uso:\n",
    "# Calcular el nuevo diámetro para un tubo con diámetro inicial de 27 mm\n",
    "diametro_inicial_mm = 27\n",
    "nuevo_diametro = calcular_nuevo_diametro(diametro_inicial_mm)\n",
    "nuevo_diametro"
   ]
  },
  {
   "cell_type": "code",
   "execution_count": 10,
   "id": "94af18f0-b6e4-4b39-bbe1-57db575cdbf4",
   "metadata": {},
   "outputs": [
    {
     "data": {
      "text/plain": [
       "1.8"
      ]
     },
     "execution_count": 10,
     "metadata": {},
     "output_type": "execute_result"
    }
   ],
   "source": [
    "#ID164\n",
    "def calcular_expansion_lineal(potencia, tiempo, alpha, c, densidad, seccion_transversal):\n",
    "    \"\"\"\n",
    "    Calcula la expansión lineal de un alambre de aluminio debido al calor generado por la corriente.\n",
    "\n",
    "    Parámetros:\n",
    "    potencia: Potencia en watts (Joules por segundo).\n",
    "    tiempo: Tiempo en segundos.\n",
    "    alpha: Coeficiente de expansión lineal en 1/K.\n",
    "    c: Capacidad calorífica específica en J/(g*K).\n",
    "    densidad: Densidad del material en g/cm³.\n",
    "    seccion_transversal: Sección transversal del alambre en mm².\n",
    "\n",
    "    Retorna:\n",
    "    La expansión lineal del alambre en milímetros, redondeada a un decimal.\n",
    "    \"\"\"\n",
    "    # Convertir sección transversal de mm² a cm²\n",
    "    seccion_transversal_cm2 = seccion_transversal / 100\n",
    "\n",
    "    # Calcular el volumen asumiendo una longitud de 1 cm (arbitraria, ya que buscamos la expansión por cm)\n",
    "    volumen_cm3 = seccion_transversal_cm2 * 1  # Longitud de 1 cm\n",
    "\n",
    "    # Calcular la masa del alambre\n",
    "    masa_g = volumen_cm3 * densidad\n",
    "\n",
    "    # Calcular la energía total (calor) absorbida por el alambre\n",
    "    energia_joules = potencia * tiempo\n",
    "\n",
    "    # Calcular el cambio de temperatura\n",
    "    delta_t = energia_joules / (masa_g * c)\n",
    "\n",
    "    # Calcular la expansión lineal\n",
    "    expansion_lineal_cm = alpha * delta_t * 1  # Longitud de 1 cm\n",
    "\n",
    "    # Convertir la expansión de cm a mm\n",
    "    expansion_lineal_mm = expansion_lineal_cm * 10\n",
    "\n",
    "    return round(expansion_lineal_mm, 1)\n",
    "\n",
    "# Datos del problema\n",
    "potencia_w = 16  # en watts\n",
    "tiempo_s = 60  # en segundos\n",
    "alpha = 23e-6  # en 1/K\n",
    "c = 0.896  # en J/(g*K)\n",
    "densidad = 2.7  # en g/cm³\n",
    "seccion_transversal_mm2 = 5  # en mm²\n",
    "\n",
    "# Calcular la expansión lineal del alambre\n",
    "expansion = calcular_expansion_lineal(potencia_w, tiempo_s, alpha, c, densidad, seccion_transversal_mm2)\n",
    "expansion"
   ]
  },
  {
   "cell_type": "code",
   "execution_count": 11,
   "id": "637d3480-4985-480b-9fb6-fe5adcd3b1b5",
   "metadata": {},
   "outputs": [
    {
     "data": {
      "text/plain": [
       "(1.74, 0.63)"
      ]
     },
     "execution_count": 11,
     "metadata": {},
     "output_type": "execute_result"
    }
   ],
   "source": [
    "#ID 165 COMPRONAR PORQUE NO ME CUADRA \n",
    "import math\n",
    "\n",
    "def calcular_tiempo_caida_y_giro(h, g, I_total, I_tail, omega_max):\n",
    "    \"\"\"\n",
    "    Calcula el tiempo de caída libre y el tiempo de giro de un gato que cae.\n",
    "\n",
    "    Parámetros:\n",
    "    h: Altura de la caída en metros.\n",
    "    g: Aceleración debida a la gravedad en m/s².\n",
    "    I_total: Momento de inercia total del gato alrededor del eje x en kg·m².\n",
    "    I_tail: Momento de inercia de la cola del gato alrededor del eje x en kg·m².\n",
    "    omega_max: Velocidad angular máxima que el gato puede alcanzar en rad/s.\n",
    "\n",
    "    Retorna:\n",
    "    Tiempo de caída libre y tiempo de giro en segundos, redondeados a dos decimales.\n",
    "    \"\"\"\n",
    "    # Calcular el tiempo de caída libre\n",
    "    tiempo_caida = math.sqrt(2 * h / g)\n",
    "    \n",
    "    # Calcular el tiempo de giro (asumiendo que el torque necesario se genera instantáneamente)\n",
    "    # y que el gato alcanza la velocidad angular máxima instantáneamente\n",
    "    # El momento de inercia del resto del cuerpo del gato es I_total - I_tail\n",
    "    if omega_max > 0:\n",
    "        theta = 2 * math.pi  # Radianes para un giro completo\n",
    "        # Usamos el momento de inercia del resto del cuerpo para calcular el tiempo de giro\n",
    "        tiempo_giro = theta / omega_max\n",
    "    else:\n",
    "        tiempo_giro = 0  # Si la velocidad angular es 0, no hay giro\n",
    "    \n",
    "    return round(tiempo_caida, 2), round(tiempo_giro, 2)\n",
    "\n",
    "# Datos del problema\n",
    "altura_caida = 15  # en metros\n",
    "aceleracion_gravedad = 9.9  # en m/s²\n",
    "# El momento de inercia total y de la cola no se especifican en el problema, se asumen valores arbitrarios\n",
    "momento_inercia_total = 0.1  # en kg·m² (valor asumido)\n",
    "momento_inercia_cola = 0.01  # en kg·m² (valor asumido)\n",
    "# La velocidad angular máxima que el gato puede alcanzar se asume arbitrariamente\n",
    "velocidad_angular_maxima = 10  # en rad/s (valor asumido)\n",
    "\n",
    "# Calcular el tiempo de caída y tiempo de giro\n",
    "tiempo_caida_libre, tiempo_giro = calcular_tiempo_caida_y_giro(\n",
    "    altura_caida, aceleracion_gravedad, momento_inercia_total, momento_inercia_cola, velocidad_angular_maxima\n",
    ")\n",
    "tiempo_caida_libre, tiempo_giro"
   ]
  },
  {
   "cell_type": "code",
   "execution_count": 12,
   "id": "3a607f8c-ee25-414e-b698-1523b77bc446",
   "metadata": {},
   "outputs": [
    {
     "data": {
      "text/plain": [
       "1542374.9999999998"
      ]
     },
     "execution_count": 12,
     "metadata": {},
     "output_type": "execute_result"
    }
   ],
   "source": [
    "#ID 70 NO DA LA RESPUESTA, QUE ALGUN MECANICO REVISE \n",
    "def calcular_segundo_momento_area(t, a):\n",
    "    \"\"\"\n",
    "    Calcula el segundo momento de área de una sección transversal con paredes delgadas.\n",
    "\n",
    "    Parámetros:\n",
    "    t: Espesor de la pared delgada.\n",
    "    a: Longitud del lado a (distancia central en la dirección y).\n",
    "\n",
    "    Retorna:\n",
    "    El segundo momento de área con respecto al eje x.\n",
    "    \"\"\"\n",
    "    # Calcular las áreas de las paredes verticales (simetría en la parte superior e inferior)\n",
    "    altura_vertical = 3 * a  # Altura total de las dos paredes verticales\n",
    "    area_vertical = altura_vertical * t  # Área de una de las paredes verticales\n",
    "    distancia_vertical = 1.5 * a  # Distancia desde el eje x al centro de la pared vertical\n",
    "\n",
    "    # Calcular las áreas de las paredes horizontales (simetría en los lados izquierdo y derecho)\n",
    "    anchura_horizontal = a  # Anchura total de las dos paredes horizontales\n",
    "    area_horizontal = anchura_horizontal * t  # Área de una de las paredes horizontales\n",
    "    distancia_horizontal = 0.625 * a  # Distancia desde el eje x al centro de la pared horizontal\n",
    "\n",
    "    # Calcular el segundo momento de área para las paredes verticales y horizontales\n",
    "    ix_vertical = 2 * (area_vertical * distancia_vertical**2)  # Factor de 2 por simetría\n",
    "    ix_horizontal = 2 * (area_horizontal * distancia_horizontal**2)  # Factor de 2 por simetría\n",
    "\n",
    "    # Sumar los segundos momentos de área de las partes individuales\n",
    "    ix_total = ix_vertical + ix_horizontal\n",
    "\n",
    "    return ix_total\n",
    "\n",
    "# Datos del problema\n",
    "t_milimetros = 4  # Espesor en milímetros\n",
    "a_milimetros = 30  # Longitud del lado a en milímetros\n",
    "\n",
    "# Convertir milímetros a metros para el cálculo\n",
    "t_metros = t_milimetros / 1000\n",
    "a_metros = a_milimetros / 1000\n",
    "\n",
    "# Calcular el segundo momento de área\n",
    "segundo_momento_area = calcular_segundo_momento_area(t_metros, a_metros)\n",
    "# Convertir metros^4 a milímetros^4 para el resultado final\n",
    "segundo_momento_area_mm4 = segundo_momento_area * (1000**4)\n",
    "segundo_momento_area_mm4"
   ]
  },
  {
   "cell_type": "code",
   "execution_count": 13,
   "id": "96621269-f7dd-4933-8928-fd9f4d61a256",
   "metadata": {},
   "outputs": [
    {
     "data": {
      "text/plain": [
       "9.2"
      ]
     },
     "execution_count": 13,
     "metadata": {},
     "output_type": "execute_result"
    }
   ],
   "source": [
    "#ID 621--NO ESTA BIEN HECHO, COMPROBAR\n",
    "import math\n",
    "\n",
    "def calcular_angulo_encendido(stroke, connecting_rod_length, ignition_point):\n",
    "    \"\"\"\n",
    "    Calcula el ángulo de encendido en grados del cigüeñal antes del TDC.\n",
    "\n",
    "    Parámetros:\n",
    "    stroke: La carrera del pistón (en mm).\n",
    "    connecting_rod_length: La longitud de la biela (en mm).\n",
    "    ignition_point: El desplazamiento del pistón en el punto de encendido desde el TDC (en mm).\n",
    "\n",
    "    Retorna:\n",
    "    El ángulo de encendido en grados antes del TDC.\n",
    "    \"\"\"\n",
    "    # Radio del cigüeñal es la mitad de la carrera del pistón\n",
    "    r = stroke / 2\n",
    "    # Convertir todo a metros para los cálculos\n",
    "    r_m = r / 1000\n",
    "    l_m = connecting_rod_length / 1000\n",
    "    ignition_point_m = ignition_point / 1000\n",
    "\n",
    "    # Inicializamos theta con un valor para comenzar las iteraciones (método numérico)\n",
    "    theta = math.radians(10)  # Un valor inicial para theta en radianes\n",
    "    \n",
    "    # Usamos el método de Newton-Raphson para resolver para theta\n",
    "    for i in range(100):  # 100 iteraciones deberían ser suficientes para la convergencia\n",
    "        f_theta = r_m * (1 - math.cos(theta)) + (l_m / 2) * (1 - math.cos(2 * theta)) - ignition_point_m\n",
    "        df_theta = r_m * math.sin(theta) + l_m * math.sin(2 * theta)\n",
    "        theta = theta - f_theta / df_theta\n",
    "\n",
    "    # Convertir theta de radianes a grados\n",
    "    theta_degrees = math.degrees(theta)\n",
    "\n",
    "    # Redondear a un decimal\n",
    "    return round(theta_degrees, 1)\n",
    "\n",
    "# Ejemplo de uso:\n",
    "stroke = 52  # carrera del pistón en mm\n",
    "connecting_rod_length = 66  # longitud de la biela en mm\n",
    "ignition_point = 2  # desplazamiento del pistón en el punto de encendido desde el TDC en mm\n",
    "\n",
    "# Calcular el ángulo de encendido\n",
    "angulo_encendido = calcular_angulo_encendido(stroke, connecting_rod_length, ignition_point)\n",
    "angulo_encendido"
   ]
  },
  {
   "cell_type": "code",
   "execution_count": 14,
   "id": "6824fcba-93e6-4aa0-823a-0e3a8614edea",
   "metadata": {},
   "outputs": [
    {
     "data": {
      "text/plain": [
       "100.6"
      ]
     },
     "execution_count": 14,
     "metadata": {},
     "output_type": "execute_result"
    }
   ],
   "source": [
    "#ID 451 REPASAR, NO ME DA LO MISMO\n",
    "import math\n",
    "\n",
    "def calcular_presion_frenado(masa, velocidad_inicial, dp_front, dp_rear, rm_front, rm_rear, mk, rdyn, distancia_detencion=10):\n",
    "    \"\"\"\n",
    "    Calcula la presión mínima requerida en el sistema hidráulico de frenos.\n",
    "\n",
    "    Parámetros:\n",
    "    masa: Masa total del vehículo en kg.\n",
    "    velocidad_inicial: Velocidad inicial cuando se activa el sistema de frenos en km/h.\n",
    "    dp_front: Diámetro del pistón del calibrador delantero en mm.\n",
    "    dp_rear: Diámetro del pistón del calibrador trasero en mm.\n",
    "    rm_front: Radio medio de aplicación de la fuerza del freno delantero en mm.\n",
    "    rm_rear: Radio medio de aplicación de la fuerza del freno trasero en mm.\n",
    "    mk: Coeficiente de fricción entre el disco y las pastillas de freno.\n",
    "    rdyn: Radio dinámico de la rueda en mm.\n",
    "    distancia_detencion: Distancia de detención en metros. Por defecto es 10 metros, según la norma IN 11.2.\n",
    "\n",
    "    Retorna:\n",
    "    La presión mínima requerida en el sistema hidráulico en bar, redondeada a un decimal.\n",
    "    \"\"\"\n",
    "    # Convertir la velocidad inicial a m/s desde km/h\n",
    "    velocidad_inicial /= 3.6\n",
    "\n",
    "    # Calcular la desaceleración usando la ecuación de movimiento uniformemente acelerado (v^2 = u^2 + 2as)\n",
    "    a = -velocidad_inicial**2 / (2 * distancia_detencion)\n",
    "\n",
    "    # Número de pistones de freno por rueda\n",
    "    n_front = 4\n",
    "    n_rear = 2\n",
    "\n",
    "    # Calcular la fuerza de frenado requerida en cada eje (fuerza total dividida por el coeficiente de fricción y radio dinámico)\n",
    "    # Asumimos una distribución igual de fuerza de frenado entre los ejes delantero y trasero\n",
    "    fuerza_frenado_total = masa * abs(a)\n",
    "    fuerza_frenado_eje = fuerza_frenado_total / 2\n",
    "\n",
    "    # Calcular el área de los pistones de freno en cada eje\n",
    "    area_piston_front = (math.pi * (dp_front / 1000)**2 / 4) * n_front\n",
    "    area_piston_rear = (math.pi * (dp_rear / 1000)**2 / 4) * n_rear\n",
    "\n",
    "    # Calcular la presión requerida en cada eje usando la fórmula de la presión (P = F/A)\n",
    "    presion_front = (fuerza_frenado_eje * mk) / (area_piston_front * rm_front / 1000)\n",
    "    presion_rear = (fuerza_frenado_eje * mk) / (area_piston_rear * rm_rear / 1000)\n",
    "\n",
    "    # Asumimos que la presión es la misma en ambos circuitos (delantero y trasero)\n",
    "    presion_sistema = max(presion_front, presion_rear)\n",
    "\n",
    "    # Convertir la presión a bar (1 Pascal = 1e-5 bar)\n",
    "    presion_sistema_bar = presion_sistema * 1e-5\n",
    "\n",
    "    return round(presion_sistema_bar, 1)\n",
    "\n",
    "# Datos del problema\n",
    "masa = 195  # kg\n",
    "velocidad_inicial = 41  # km/h\n",
    "dp_front = 28  # mm\n",
    "dp_rear = 20  # mm\n",
    "rm_front = 105  # mm\n",
    "rm_rear = 90  # mm\n",
    "mk = 0.9  # Coeficiente de fricción disco-pastilla\n",
    "rdyn = 225  # mm\n",
    "\n",
    "# Calcular la presión mínima requerida\n",
    "presion_minima = calcular_presion_frenado(masa, velocidad_inicial, dp_front, dp_rear, rm_front, rm_rear, mk, rdyn)\n",
    "presion_minima"
   ]
  },
  {
   "cell_type": "code",
   "execution_count": 15,
   "id": "09805db5-5bd0-47ce-990e-c2f46b8a5b50",
   "metadata": {},
   "outputs": [
    {
     "data": {
      "text/plain": [
       "(147.7, 147.7)"
      ]
     },
     "execution_count": 15,
     "metadata": {},
     "output_type": "execute_result"
    }
   ],
   "source": [
    "#ID 155\n",
    "def calcular_temperatura_t3_t4(p1, v1, t1, p4):\n",
    "    \"\"\"\n",
    "    Calcula las temperaturas T3 y T4 para un ciclo termodinámico de un gas ideal.\n",
    "\n",
    "    Parámetros:\n",
    "    p1: Presión en el estado 1 (en bar).\n",
    "    v1: Volumen en el estado 1 (en m^3).\n",
    "    t1: Temperatura en el estado 1 (en Kelvin).\n",
    "    p4: Presión en el estado 4 (en bar).\n",
    "\n",
    "    Retorna:\n",
    "    La temperatura T3 y T4 en Kelvin, redondeada a un decimal.\n",
    "    \"\"\"\n",
    "    # Convertir presión de bar a Pascal para usar en la ecuación de los gases ideales (1 bar = 100 kPa)\n",
    "    p1_pascals = p1 * 1e5\n",
    "    p4_pascals = p4 * 1e5\n",
    "\n",
    "    # Calcular la constante R usando la ley de los gases ideales\n",
    "    r = p1_pascals * v1 / t1\n",
    "\n",
    "    # Calcular T4 usando la ley de los gases ideales en el estado 4 (V4 = V1 para proceso isotérmico)\n",
    "    t4 = p4_pascals * v1 / r\n",
    "\n",
    "    # T3 es igual a T4 para un proceso isotérmico\n",
    "    t3 = t4\n",
    "\n",
    "    return round(t3, 1), round(t4, 1)\n",
    "\n",
    "# Datos del problema según la imagen proporcionada\n",
    "p1_bar = 6.5  # en bar\n",
    "v1_m3 = 0.7  # en m^3\n",
    "t1_kelvin = 800  # en Kelvin\n",
    "p4_bar = 1.2  # en bar\n",
    "\n",
    "# Calcular las temperaturas T3 y T4\n",
    "t3_kelvin, t4_kelvin = calcular_temperatura_t3_t4(p1_bar, v1_m3, t1_kelvin, p4_bar)\n",
    "t3_kelvin, t4_kelvin"
   ]
  },
  {
   "cell_type": "code",
   "execution_count": 10,
   "id": "c00fc37d-3f96-4ee1-84fb-d157fc62283a",
   "metadata": {},
   "outputs": [
    {
     "data": {
      "text/plain": [
       "(95.4, 59.2)"
      ]
     },
     "execution_count": 10,
     "metadata": {},
     "output_type": "execute_result"
    }
   ],
   "source": [
    "#ID76\n",
    "\n",
    "# Energías necesarias para acelerar y velocidades que se alcanzan con una cierta energía\n",
    "import math\n",
    "def velocidades_a_energia(m,v1,v2):\n",
    "    \"\"\"\n",
    "    Dadas dos velocidades calcula la energía para ir de la primera a la segunda\n",
    "\n",
    "    Args:\n",
    "        m (float): masa (kg)\n",
    "        v1 (float): velocidad inicial (m/s)\n",
    "        v2 (float): velocidad final (m/s)\n",
    "\n",
    "    Returns:\n",
    "        float: energía necesaria\n",
    "    \"\"\"\n",
    "    return round(m/2*(v2**2-v1**2),1)\n",
    "def energia_a_velocidad_final(m0, mf, E, v0 = 0, E_lost=0):\n",
    "    \"\"\"\n",
    "    Dada una cantidad de energía y una velocidad inicial calcula la velocidad final\n",
    "    que se puede alcanzar con esa energía. También se puede tener en cuenta que se \n",
    "    pierda energía en algún momento\n",
    "\n",
    "    Args:\n",
    "        m0 (float): masa inicial del objeto (kg)\n",
    "        mf (float): masa final del objeto (kg)\n",
    "        v0 (float): velocidad inicial (m/s). Defaults to 0.\n",
    "        E (energia): energia dada (J)\n",
    "        E_lost (float, optional): La energía que se pierde en el proceso (J). Defaults to 0.\n",
    "\n",
    "    Returns:\n",
    "        float: la velocidad final alcanzada\n",
    "    \"\"\"\n",
    "    return round(math.sqrt((2*(E+E_lost)+m0*v0**2)/mf),1)\n",
    "\n",
    "def energia_perdida(m0,mf,v):\n",
    "    \"\"\"\n",
    "    Calcula la energía perdida derivada de la perdida de masa de un objeto\n",
    "\n",
    "    Args:\n",
    "        m0 (float): masa inicial\n",
    "        mf (float): masa final\n",
    "        v (float): velocidad de la masa en ese momento\n",
    "\n",
    "    Returns:\n",
    "        float: energia perdida\n",
    "    \"\"\"\n",
    "    return (mf-m0)*v**2/2\n",
    "\n",
    "# Ahora la resolución del ejercicio\n",
    "\n",
    "# Velocidades en m/s y masas en kg\n",
    "\n",
    "m_coche = 190\n",
    "v0_coche = 30\n",
    "vf_coche = 100\n",
    "\n",
    "m0_alpaca = 50\n",
    "mf_alpaca = 49.25\n",
    "v_desprendimiento_alpaca = 20\n",
    "\n",
    "E = velocidades_a_energia(m_coche, v0_coche, vf_coche) # Energia usada por el coche (detalles en enunciado)\n",
    "r1 = energia_a_velocidad_final(m_coche,m_coche,E) # La masa esta dos veces porque no pierde masa\n",
    "E_lost = energia_perdida(m0_alpaca,mf_alpaca,v_desprendimiento_alpaca) # energia perdida por la alpaca\n",
    "r2 = energia_a_velocidad_final(m0_alpaca, mf_alpaca, E/10, v0=0, E_lost=E_lost) # velocidad que alcanza la alpaca\n",
    "r1,r2\n"
   ]
  },
  {
   "cell_type": "code",
   "execution_count": 28,
   "id": "f9290e8c",
   "metadata": {},
   "outputs": [
    {
     "data": {
      "text/plain": [
       "60.7"
      ]
     },
     "execution_count": 28,
     "metadata": {},
     "output_type": "execute_result"
    }
   ],
   "source": [
    "#ID77\n",
    "\n",
    "# Incremento de peso y de bending stifness\n",
    "# Ojo no documentada\n",
    "# Diferencia en el segundo decimal de la EI\n",
    "from math import pi\n",
    "def calular_diametro_interior(d_ext, thickness):\n",
    "    return d_ext-2*thickness\n",
    "\n",
    "def calcular_I(d_ext, d_int):\n",
    "    return pi*(d_ext**4 - d_int**4)/64\n",
    "\n",
    "def calcular_volumen(d_ext, d_int, L):\n",
    "    return pi*(d_ext**2-d_int**2)*L/4\n",
    "\n",
    "def calcular_EI(I1, I2):\n",
    "    return round((I2/I1 - 1)*100, 1)\n",
    "\n",
    "def calcular_weight_increase(V1, V2):\n",
    "    return round((V2/V1 - 1)*100, 1)\n",
    "\n",
    "# resolución del ejercicio\n",
    "\n",
    "# medidas de longitud en milimetros\n",
    "\n",
    "L1 = 968\n",
    "L2 = 968\n",
    "d_ext_1 = 25.4\n",
    "d_ext_2 = 30\n",
    "thickness_1 = 1.6\n",
    "thickness_2 = 1.5\n",
    "\n",
    "d_int_1 = calular_diametro_interior(d_ext_1, thickness_1)\n",
    "d_int_2 = calular_diametro_interior(d_ext_2, thickness_2)\n",
    "I1 = calcular_I(d_ext_1, d_int_1)\n",
    "I2 = calcular_I(d_ext_2, d_int_2)\n",
    "V1 = calcular_volumen(d_ext_1,d_int_1, L1)\n",
    "V2 = calcular_volumen(d_ext_2,d_int_2, L2)\n",
    "EI = calcular_EI(I1,I2) # La EI no me da exactamente lo mismo, cambia el segundo decimal de 0 a 9\n",
    "W = calcular_weight_increase(V1,V2)\n",
    "\n"
   ]
  },
  {
   "cell_type": "code",
   "execution_count": 31,
   "id": "02822e88",
   "metadata": {},
   "outputs": [
    {
     "data": {
      "text/plain": [
       "45.0"
      ]
     },
     "execution_count": 31,
     "metadata": {},
     "output_type": "execute_result"
    }
   ],
   "source": [
    "#ID79\n",
    "\n",
    "# No documentada\n",
    "# Nueva presion en una botella\n",
    "def sacar_volumen_boyle(P1, V1, P2):\n",
    "    return P1*V1/P2\n",
    "def sacar_presion_boyle(P1, V1, V2):\n",
    "    return P1*V1/V2\n",
    "\n",
    "# Presion en bares y volumen en m^3\n",
    "\n",
    "P_atm = 1 \n",
    "V = 0.004\n",
    "\n",
    "P_abs = 51\n",
    "V1 = 0.02\n",
    "\n",
    "V2 = sacar_volumen_boyle(P_atm, V1, P_abs)\n",
    "P_abs_new = sacar_presion_boyle(P_abs,V-V2, V)\n",
    "P_rel_new = P_abs_new - P_atm\n",
    "round(P_rel_new, 1)\n"
   ]
  },
  {
   "cell_type": "code",
   "execution_count": 42,
   "id": "74ea890b",
   "metadata": {},
   "outputs": [
    {
     "data": {
      "text/plain": [
       "59.4"
      ]
     },
     "execution_count": 42,
     "metadata": {},
     "output_type": "execute_result"
    }
   ],
   "source": [
    "#ID130\n",
    "\n",
    "# Calentar un bloque de de metal\n",
    "\n",
    "def calcular_q(m, C_s, Tf, T0):\n",
    "    \"\"\"\n",
    "    Calculamos el calor necesario para calentar el objeto\n",
    "\n",
    "    Args:\n",
    "        m (float): la masa del objeto\n",
    "        C_s (float): el calor específico\n",
    "        Tf (float): temperatura final\n",
    "        T0 (float): temperatura inicial\n",
    "\n",
    "    Returns:\n",
    "        float: calor necesario para calentar\n",
    "    \"\"\"\n",
    "    return m*C_s*(Tf-T0)\n",
    "\n",
    "def calcular_tiempo_calentar(q,P):\n",
    "    \"\"\"\n",
    "    Calculamos el tiempo necesario para calentar un objeto a una cierta temperatura\n",
    "\n",
    "    Args:\n",
    "        q (float): el calor necesario\n",
    "        P (float): la potencia utilizada\n",
    "\n",
    "    Returns:\n",
    "        float: el tiempo necesario\n",
    "    \"\"\"\n",
    "    return q/P\n",
    "\n",
    "m = 2.4 #kg\n",
    "C_s = 900 # J/kgK\n",
    "P = 2000 # W\n",
    "Tf = 80 # Pueden ser celsius o kelvin\n",
    "T0 = 25\n",
    "\n",
    "q = calcular_q(m,C_s,Tf,T0)\n",
    "t = calcular_tiempo_calentar(q, P)\n",
    "t"
   ]
  },
  {
   "cell_type": "code",
   "execution_count": 41,
   "id": "2ab52eb5",
   "metadata": {},
   "outputs": [
    {
     "name": "stdout",
     "output_type": "stream",
     "text": [
      "Centro de Masa: (0.6, 1.4, 0.8)\n"
     ]
    }
   ],
   "source": [
    "def calcular_centro_de_masa(masas, posiciones):\n",
    "    total_mass = sum(masas)\n",
    "    center_of_mass = [sum(m * p for m, p in zip(masas, coord)) / total_mass for coord in zip(*posiciones)]\n",
    "    return tuple(center_of_mass)\n",
    "\n",
    "\n",
    "masas = [1,2,2]  # masas \n",
    "posiciones = [(1.0, -1, 0), (-1,2,1), (2,2,1)]  # (x, y, z) posiciones \n",
    "\n",
    "cdm = calcular_centro_de_masa(masas, posiciones)\n",
    "print(\"Centro de Masa:\", cdm)\n"
   ]
  },
  {
   "cell_type": "code",
   "execution_count": 39,
   "id": "da0045ad",
   "metadata": {},
   "outputs": [
    {
     "name": "stdout",
     "output_type": "stream",
     "text": [
      "333.33333333333326\n",
      "9.333333333333334\n"
     ]
    }
   ],
   "source": [
    "# Calcular integrales definidas\n",
    "\n",
    "# Ojo, require scipy. Si no esta instalado, descomentar la siguiente linea y ejecutarla\n",
    "# !pip install scipy\n",
    "from scipy.integrate import quad, dblquad\n",
    "from math import sin, log, cos, inf\n",
    "\n",
    "f_x = lambda x: x**2 #Lo que va a la derecha de los dos puntos es la funcion que queremos integrar\n",
    "print(quad(f_x,0,10)[0]) # el formato es (funcion,limite_inferior,limite_superior) \n",
    "\n",
    "#integrales dobles\n",
    "f_xy = lambda x, y: x**2*y\n",
    "print(dblquad(f_xy,0,1,2,4)[0]) # (funcion, inferior interior, superior inferior, inferior exterior, superior exterior)\n",
    "# integra primero en y y después en x\n",
    "# integral triple con tplquad"
   ]
  }
 ],
 "metadata": {
  "kernelspec": {
   "display_name": "Python 3",
   "language": "python",
   "name": "python3"
  },
  "language_info": {
   "codemirror_mode": {
    "name": "ipython",
    "version": 3
   },
   "file_extension": ".py",
   "mimetype": "text/x-python",
   "name": "python",
   "nbconvert_exporter": "python",
   "pygments_lexer": "ipython3",
   "version": "3.10.11"
  }
 },
 "nbformat": 4,
 "nbformat_minor": 5
}
